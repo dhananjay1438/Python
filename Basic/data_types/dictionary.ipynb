{
 "cells": [
  {
   "cell_type": "code",
   "execution_count": 7,
   "metadata": {
    "collapsed": true,
    "pycharm": {
     "is_executing": false
    }
   },
   "outputs": [
    {
     "name": "stdout",
     "text": [
      "{'name': 'Dhananjay', 'rollNumber': 32, 'male': True, 'percentage': 98.32}\n"
     ],
     "output_type": "stream"
    }
   ],
   "source": [
    "myDict = {\"name\":\"Dhananjay\", \"rollNumber\":32, \"male\":True,\n",
    "          \"percentage\":98.32}\n",
    "print(myDict)"
   ]
  },
  {
   "cell_type": "code",
   "execution_count": 9,
   "outputs": [
    {
     "name": "stdout",
     "text": [
      "True\n32\nDhananjay\n"
     ],
     "output_type": "stream"
    }
   ],
   "source": [
    "print(myDict[\"male\"])\n",
    "print(myDict[\"rollNumber\"])\n",
    "print(myDict['name'])"
   ],
   "metadata": {
    "collapsed": false,
    "pycharm": {
     "name": "#%%\n",
     "is_executing": false
    }
   }
  },
  {
   "cell_type": "code",
   "execution_count": 11,
   "outputs": [
    {
     "name": "stdout",
     "text": [
      "dict_keys(['name', 'rollNumber', 'male', 'percentage'])\ndict_values(['Dhananjay', 32, True, 98.32])\n"
     ],
     "output_type": "stream"
    }
   ],
   "source": [
    "print(myDict.keys())\n",
    "print(myDict.values())"
   ],
   "metadata": {
    "collapsed": false,
    "pycharm": {
     "name": "#%%\n",
     "is_executing": false
    }
   }
  },
  {
   "cell_type": "code",
   "execution_count": 13,
   "outputs": [
    {
     "name": "stdout",
     "text": [
      "0 name\n1 rollNumber\n2 male\n3 percentage\n"
     ],
     "output_type": "stream"
    }
   ],
   "source": [
    "# Returns set if just one parameter is given to store the data\n",
    "# in case of mutiple data items\n",
    "for key, value in enumerate(myDict):\n",
    "    print(key, value)"
   ],
   "metadata": {
    "collapsed": false,
    "pycharm": {
     "name": "#%%\n",
     "is_executing": false
    }
   }
  },
  {
   "cell_type": "code",
   "execution_count": 17,
   "outputs": [
    {
     "data": {
      "text/plain": "{'s': bool,\n 'o': bool,\n 'm': bool,\n 'e': bool,\n 't': bool,\n 'i': bool,\n 'n': bool,\n 'g': bool}"
     },
     "metadata": {},
     "output_type": "execute_result",
     "execution_count": 17
    }
   ],
   "source": [
    "myDict.fromkeys(\"someting\",bool)"
   ],
   "metadata": {
    "collapsed": false,
    "pycharm": {
     "name": "#%%\n",
     "is_executing": false
    }
   }
  },
  {
   "cell_type": "code",
   "execution_count": 21,
   "outputs": [
    {
     "name": "stdout",
     "text": [
      "{'name': 'Dhananjay', 'rollNumber': 32, 'male': True, 'percentage': 98.32}\n"
     ],
     "output_type": "stream"
    }
   ],
   "source": [
    "print(myDict)\n"
   ],
   "metadata": {
    "collapsed": false,
    "pycharm": {
     "name": "#%%\n",
     "is_executing": false
    }
   }
  },
  {
   "cell_type": "code",
   "execution_count": 29,
   "outputs": [],
   "source": [
    "myList = [10,20,30]"
   ],
   "metadata": {
    "collapsed": false,
    "pycharm": {
     "name": "#%%\n",
     "is_executing": false
    }
   }
  },
  {
   "cell_type": "code",
   "execution_count": 25,
   "outputs": [],
   "source": [
    "myDict = myDict.fromkeys(myList,\"something\")"
   ],
   "metadata": {
    "collapsed": false,
    "pycharm": {
     "name": "#%%\n",
     "is_executing": false
    }
   }
  },
  {
   "cell_type": "code",
   "execution_count": 26,
   "outputs": [
    {
     "name": "stdout",
     "text": [
      "{10: 'something', 20: 'something', 30: 'something'}\n"
     ],
     "output_type": "stream"
    }
   ],
   "source": [
    "print(myDict)"
   ],
   "metadata": {
    "collapsed": false,
    "pycharm": {
     "name": "#%%\n",
     "is_executing": false
    }
   }
  },
  {
   "cell_type": "code",
   "execution_count": 35,
   "outputs": [
    {
     "name": "stdout",
     "text": [
      "something\n"
     ],
     "output_type": "stream"
    }
   ],
   "source": [
    "print(myDict[10])\n"
   ],
   "metadata": {
    "collapsed": false,
    "pycharm": {
     "name": "#%%\n",
     "is_executing": false
    }
   }
  },
  {
   "cell_type": "code",
   "execution_count": 39,
   "outputs": [
    {
     "name": "stdout",
     "text": [
      "{10: 'valu', 30: 'some'}\n"
     ],
     "output_type": "stream"
    }
   ],
   "source": [
    "# We can even keep integral values as keys in dicts\n",
    "someDict = {10:\"valu\", 30:\"some\"}\n",
    "print(someDict)"
   ],
   "metadata": {
    "collapsed": false,
    "pycharm": {
     "name": "#%%\n",
     "is_executing": false
    }
   }
  }
 ],
 "metadata": {
  "language_info": {
   "codemirror_mode": {
    "name": "ipython",
    "version": 2
   },
   "file_extension": ".py",
   "mimetype": "text/x-python",
   "name": "python",
   "nbconvert_exporter": "python",
   "pygments_lexer": "ipython2",
   "version": "2.7.6"
  },
  "kernelspec": {
   "name": "python3",
   "language": "python",
   "display_name": "Python 3"
  },
  "pycharm": {
   "stem_cell": {
    "cell_type": "raw",
    "source": [],
    "metadata": {
     "collapsed": false
    }
   }
  }
 },
 "nbformat": 4,
 "nbformat_minor": 0
}