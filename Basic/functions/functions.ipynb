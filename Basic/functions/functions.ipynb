{
 "cells": [
  {
   "cell_type": "code",
   "execution_count": 14,
   "metadata": {
    "collapsed": true,
    "pycharm": {
     "name": "#%%\n",
     "is_executing": false
    }
   },
   "outputs": [
    {
     "name": "stdout",
     "text": [
      "Addition of 10 and 20 is 30\n"
     ],
     "output_type": "stream"
    }
   ],
   "source": [
    "def add(a, b):\n",
    "    '''\n",
    "    DOCSTRING: This adds the two numbers without returning value\n",
    "    :param a: First Number\n",
    "    :param b: Second Number\n",
    "    :return: None \n",
    "    '''\n",
    "    print(f\"Addition of {a} and {b} is {a+b}\")\n",
    "\n",
    "add(10,20)"
   ]
  },
  {
   "cell_type": "code",
   "execution_count": 15,
   "outputs": [
    {
     "name": "stdout",
     "text": [
      "Help on function add in module __main__:\n\nadd(a, b)\n    DOCSTRING: This adds the two numbers without returning value\n    :param a: First Number\n    :param b: Second Number\n    :return: None\n\n"
     ],
     "output_type": "stream"
    }
   ],
   "source": [
    "help(add)"
   ],
   "metadata": {
    "collapsed": false,
    "pycharm": {
     "name": "#%%\n",
     "is_executing": false
    }
   }
  },
  {
   "cell_type": "code",
   "execution_count": 10,
   "outputs": [
    {
     "name": "stdout",
     "text": [
      "30\n"
     ],
     "output_type": "stream"
    }
   ],
   "source": [
    "# Return type \n",
    "def add(a, b):\n",
    "    '''\n",
    "    DOCSTRING: This adds the two numbers and return the value\n",
    "    :param a: First Value \n",
    "    :param b: Second Value\n",
    "    :return a+b: Added value\n",
    "    '''\n",
    "    return a+b\n",
    "print(add(10,20))"
   ],
   "metadata": {
    "collapsed": false,
    "pycharm": {
     "name": "#%%\n",
     "is_executing": false
    }
   }
  },
  {
   "cell_type": "code",
   "execution_count": 36,
   "outputs": [
    {
     "name": "stdout",
     "text": [
      "Help on function add in module __main__:\n\nadd(a, b)\n    DOCSTRING: This adds the two numbers without returning value\n    :param a: First Number\n    :param b: Second Number\n    :return: None\n\n"
     ],
     "output_type": "stream"
    }
   ],
   "source": [
    "help(add)\n"
   ],
   "metadata": {
    "collapsed": false,
    "pycharm": {
     "name": "#%%\n",
     "is_executing": false
    }
   }
  },
  {
   "cell_type": "code",
   "execution_count": 52,
   "outputs": [],
   "source": [
    "################################\n",
    "#           Exercise\n",
    "################################\n",
    "\n",
    "def checkWord(word):\n",
    "    if word[0] in 'aeiou':\n",
    "        return word + \"ay\"\n",
    "    else:\n",
    "    \n",
    "        return word[1::] + word[0] + 'ay'\n",
    "            "
   ],
   "metadata": {
    "collapsed": false,
    "pycharm": {
     "name": "#%%\n",
     "is_executing": false
    }
   }
  },
  {
   "cell_type": "code",
   "execution_count": 54,
   "outputs": [
    {
     "data": {
      "text/plain": "'eomthingSay'"
     },
     "metadata": {},
     "output_type": "execute_result",
     "execution_count": 54
    }
   ],
   "source": [
    "checkWord(\"Seomthing\")\n"
   ],
   "metadata": {
    "collapsed": false,
    "pycharm": {
     "name": "#%%\n",
     "is_executing": false
    }
   }
  },
  {
   "cell_type": "code",
   "execution_count": 55,
   "outputs": [
    {
     "data": {
      "text/plain": "'accay'"
     },
     "metadata": {},
     "output_type": "execute_result",
     "execution_count": 55
    }
   ],
   "source": [
    "checkWord(\"acc\")"
   ],
   "metadata": {
    "collapsed": false,
    "pycharm": {
     "name": "#%%\n",
     "is_executing": false
    }
   }
  },
  {
   "cell_type": "code",
   "execution_count": 56,
   "outputs": [
    {
     "name": "stdout",
     "text": [
      "<class 'tuple'>\n"
     ],
     "output_type": "stream"
    }
   ],
   "source": [
    "# *args are tuples by default\n",
    "# args is arbitary variable ie it can have anything as its name\n",
    "def myFunc(*args):\n",
    "    print(type(args))\n",
    "\n",
    "myFunc()"
   ],
   "metadata": {
    "collapsed": false,
    "pycharm": {
     "name": "#%%\n",
     "is_executing": false
    }
   }
  },
  {
   "cell_type": "code",
   "execution_count": 60,
   "outputs": [],
   "source": [
    "def kwargsFunc(**kwargs):\n",
    "    print(f\"My fav dish is {kwargs['dish']} and fav place is {kwargs['place']} \"\n",
    "          f\"My rank is {kwargs['rank']}\")"
   ],
   "metadata": {
    "collapsed": false,
    "pycharm": {
     "name": "#%%\n",
     "is_executing": false
    }
   }
  },
  {
   "cell_type": "code",
   "execution_count": 61,
   "outputs": [
    {
     "name": "stdout",
     "text": [
      "My fav dish is something and fav place is Switzerland My rank is 1\n"
     ],
     "output_type": "stream"
    }
   ],
   "source": [
    "kwargsFunc(dish=\"something\", place=\"Switzerland\", rank=1, percentage=98.32)"
   ],
   "metadata": {
    "collapsed": false,
    "pycharm": {
     "name": "#%%\n",
     "is_executing": false
    }
   }
  },
  {
   "cell_type": "code",
   "execution_count": 68,
   "outputs": [
    {
     "name": "stdout",
     "text": [
      "Type of args is <class 'tuple'>\nType of kwargs is <class 'dict'>\n1\n2\n3\n4\nabc\n98.321\nTrue\nNow printing **kwargs\n0 a\n1 b\n2 A\n3 per\n4 rank\n"
     ],
     "output_type": "stream"
    }
   ],
   "source": [
    "def bothArgs(*args, **kwargs):\n",
    "    print(\"Type of args is {}\".format(type(args)))\n",
    "    print(\"Type of kwargs is {}\".format(type(kwargs)))\n",
    "    for item in args:\n",
    "        print(item)\n",
    "    print(\"Now printing **kwargs\")\n",
    "    for key, value in enumerate(kwargs):\n",
    "        print(key, value)\n",
    "bothArgs(1, 2, 3, 4, \"abc\", 98.321, True, a='97',\n",
    "         b='98', A='67', per=84.53, rank=10)\n",
    "    "
   ],
   "metadata": {
    "collapsed": false,
    "pycharm": {
     "name": "#%%\n",
     "is_executing": false
    }
   }
  },
  {
   "cell_type": "code",
   "execution_count": 71,
   "outputs": [
    {
     "name": "stdout",
     "text": [
      "num1 ie 10 is lesser than 20\nnum1 ie 21 is lesser than 32\nnum2 ie 10 is lesser than 100\n"
     ],
     "output_type": "stream"
    }
   ],
   "source": [
    "#########################################################\n",
    "#                       EXERCISE\n",
    "#########################################################\n",
    "\n",
    "def lesserNumber(num1, num2):\n",
    "    if (num1 < num2):\n",
    "        print(\"num1 ie {} is lesser than {}\".format(num1,num2))\n",
    "    else: print(\"num2 ie {} is lesser than {}\".format(num2,num1))\n",
    "    \n",
    "lesserNumber(10,20)\n",
    "lesserNumber(21,32)\n",
    "lesserNumber(100,10)"
   ],
   "metadata": {
    "collapsed": false,
    "pycharm": {
     "name": "#%%\n",
     "is_executing": false
    }
   }
  },
  {
   "cell_type": "code",
   "execution_count": 82,
   "outputs": [],
   "source": [
    "\n",
    "def lesserEven(num1, num2):\n",
    "    if num1 % 2 != 0 and num2 % 2 != 0:\n",
    "        print(\"No number is even\")\n",
    "        return\n",
    "    if num1 % 2 != 0:\n",
    "        print(f\"{num2} is lesser even number\")\n",
    "    elif num2 % 2 != 0:\n",
    "        print(f\"{num1} is lesser even number\")\n",
    "    else:\n",
    "        if num1 < num2:\n",
    "            print(f\"{num1} is lesser even number\")\n",
    "        else: print(f\"{num2} is lesser even number\")\n",
    "        \n",
    "    "
   ],
   "metadata": {
    "collapsed": false,
    "pycharm": {
     "name": "#%%\n",
     "is_executing": false
    }
   }
  },
  {
   "cell_type": "code",
   "execution_count": 83,
   "outputs": [
    {
     "name": "stdout",
     "text": [
      "6 is lesser even number\n2 is lesser even number\n2 is lesser even number\n0 is lesser even number\nNo number is even\n"
     ],
     "output_type": "stream"
    }
   ],
   "source": [
    "lesserEven(3,6)\n",
    "lesserEven(2,4)\n",
    "lesserEven(4,2)\n",
    "lesserEven(0,0)\n",
    "lesserEven(3,5)\n"
   ],
   "metadata": {
    "collapsed": false,
    "pycharm": {
     "name": "#%%\n",
     "is_executing": false
    }
   }
  },
  {
   "cell_type": "code",
   "execution_count": 100,
   "outputs": [],
   "source": [
    "def firstLetterChecker(text):\n",
    "    letterAfterSpace = None\n",
    "    spaceFound = False\n",
    "    for letter in text:\n",
    "        if spaceFound == True:\n",
    "            letterAfterSpace = letter\n",
    "            break\n",
    "        if letter == ' ':\n",
    "            spaceFound = True\n",
    "    \n",
    "    if text[0] == letterAfterSpace:\n",
    "        return True\n",
    "    else: return False"
   ],
   "metadata": {
    "collapsed": false,
    "pycharm": {
     "name": "#%%\n",
     "is_executing": false
    }
   }
  },
  {
   "cell_type": "code",
   "execution_count": 107,
   "outputs": [
    {
     "data": {
      "text/plain": "False"
     },
     "metadata": {},
     "output_type": "execute_result",
     "execution_count": 107
    }
   ],
   "source": [
    "firstLetterChecker(\"Same Sun\")\n",
    "firstLetterChecker(\"sun same\")\n",
    "firstLetterChecker(\"Levelheaded Lahma\")\n",
    "firstLetterChecker(\"Crazy Kangroo\")"
   ],
   "metadata": {
    "collapsed": false,
    "pycharm": {
     "name": "#%%\n",
     "is_executing": false
    }
   }
  },
  {
   "cell_type": "code",
   "execution_count": null,
   "outputs": [],
   "source": [
    "\n"
   ],
   "metadata": {
    "collapsed": false,
    "pycharm": {
     "name": "#%%\n"
    }
   }
  }
 ],
 "metadata": {
  "language_info": {
   "codemirror_mode": {
    "name": "ipython",
    "version": 2
   },
   "file_extension": ".py",
   "mimetype": "text/x-python",
   "name": "python",
   "nbconvert_exporter": "python",
   "pygments_lexer": "ipython2",
   "version": "2.7.6"
  },
  "kernelspec": {
   "name": "python3",
   "language": "python",
   "display_name": "Python 3"
  },
  "pycharm": {
   "stem_cell": {
    "cell_type": "raw",
    "source": [],
    "metadata": {
     "collapsed": false
    }
   }
  }
 },
 "nbformat": 4,
 "nbformat_minor": 0
}