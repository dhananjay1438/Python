{
 "cells": [
  {
   "cell_type": "code",
   "execution_count": 1,
   "metadata": {
    "collapsed": true,
    "pycharm": {
     "is_executing": false
    }
   },
   "outputs": [],
   "source": [
    "###############################################################\n",
    "#                   Exercise No 2\n",
    "###############################################################"
   ]
  },
  {
   "cell_type": "code",
   "execution_count": 5,
   "outputs": [
    {
     "name": "stdout",
     "text": [
      "The value 1 is not between 10 and 100\n10 is between 1 and 100\n"
     ],
     "output_type": "stream"
    }
   ],
   "source": [
    "def ran_check(num, low, high):\n",
    "    if high >= num >= low:\n",
    "        print(f\"{num} is between {low} and {high}\")\n",
    "    else:\n",
    "        print(f\"The value {num} is not between {low} and {high}\")\n",
    "\n",
    "ran_check(1,10,100)\n",
    "ran_check(10,1,100)        "
   ],
   "metadata": {
    "collapsed": false,
    "pycharm": {
     "name": "#%%\n",
     "is_executing": false
    }
   }
  },
  {
   "cell_type": "code",
   "execution_count": 7,
   "outputs": [
    {
     "data": {
      "text/plain": "False"
     },
     "metadata": {},
     "output_type": "execute_result",
     "execution_count": 7
    }
   ],
   "source": [
    "def ran_check_bool(num, low, high):\n",
    "    if high >= num >= low:\n",
    "        return True\n",
    "    else: return False\n",
    "    \n",
    "ran_check_bool(1,10,100)\n",
    "\n"
   ],
   "metadata": {
    "collapsed": false,
    "pycharm": {
     "name": "#%%\n",
     "is_executing": false
    }
   }
  }
 ],
 "metadata": {
  "language_info": {
   "codemirror_mode": {
    "name": "ipython",
    "version": 2
   },
   "file_extension": ".py",
   "mimetype": "text/x-python",
   "name": "python",
   "nbconvert_exporter": "python",
   "pygments_lexer": "ipython2",
   "version": "2.7.6"
  },
  "kernelspec": {
   "name": "python3",
   "language": "python",
   "display_name": "Python 3"
  },
  "pycharm": {
   "stem_cell": {
    "cell_type": "raw",
    "source": [],
    "metadata": {
     "collapsed": false
    }
   }
  }
 },
 "nbformat": 4,
 "nbformat_minor": 0
}